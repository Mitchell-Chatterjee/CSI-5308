{
 "cells": [
  {
   "cell_type": "code",
   "execution_count": 1,
   "metadata": {
    "collapsed": true
   },
   "outputs": [
    {
     "name": "stderr",
     "output_type": "stream",
     "text": [
      "\n",
      "[notice] A new release of pip is available: 23.0.1 -> 23.1\n",
      "[notice] To update, run: python.exe -m pip install --upgrade pip\n"
     ]
    },
    {
     "name": "stdout",
     "output_type": "stream",
     "text": [
      "Requirement already satisfied: igraph in d:\\git\\winter_2023\\csi-5308\\project-python\\venv\\lib\\site-packages (0.10.4)\n",
      "Requirement already satisfied: texttable>=1.6.2 in d:\\git\\winter_2023\\csi-5308\\project-python\\venv\\lib\\site-packages (from igraph) (1.6.7)\n"
     ]
    }
   ],
   "source": [
    "# Imports and installations\n",
    "!pip install igraph\n",
    "\n",
    "from Ring import Node, Direction, Ring\n",
    "from Algorithms import MinMax, MinMaxPlus\n",
    "import random\n",
    "import time\n",
    "import math"
   ]
  },
  {
   "cell_type": "code",
   "execution_count": 12,
   "outputs": [],
   "source": [
    "# Defining the functions to run the program\n",
    "def generate_random_ring(size):\n",
    "    temp = [i for i in range(1, size + 1)]\n",
    "    random.shuffle(temp)\n",
    "    nodes = [Node(value, None, None) for value in temp]\n",
    "\n",
    "    return nodes\n",
    "\n",
    "\n",
    "def running_time(start_time, end_time):\n",
    "    elapsed_time = end_time - start_time\n",
    "    elapsed_mins = int(elapsed_time / 60)\n",
    "    elapsed_secs = int(elapsed_time - (elapsed_mins * 60))\n",
    "    elapsed_milliseconds = round((end_time-start_time) * 1000)\n",
    "    return elapsed_mins, elapsed_secs, elapsed_milliseconds\n",
    "\n",
    "\n",
    "def run_experiments(number_of_originators=2, size_of_ring=10, direction=Direction.RIGHT, animation_speed=500):\n",
    "    # Let's generate a couple nodes to start and make sure we can graph them properly\n",
    "    nodes_min_max = generate_random_ring(size_of_ring)\n",
    "    nodes_min_max_plus = [Node(node.value, None, None) for node in nodes_min_max]\n",
    "\n",
    "    # Get both algorithms\n",
    "    min_max = MinMax()\n",
    "    min_max_plus = MinMaxPlus()\n",
    "\n",
    "    # Now let's link up the nodes in a ring\n",
    "    ring_min_max = Ring(nodes_min_max, direction, min_max, number_of_originators)\n",
    "    ring_min_max_plus = Ring(nodes_min_max_plus, direction, min_max_plus, number_of_originators)\n",
    "\n",
    "    # Print all edges in order\n",
    "    print(f\"The edges (in direction {direction.value}) for the ring executing min-max are: \"\n",
    "          f\"{[elem.get_edge(Direction.RIGHT) for elem in ring_min_max.nodes]}\")\n",
    "    print(f\"The edges (in direction {direction.value}) for the ring executing min-max-plus are: \"\n",
    "          f\"{[elem.get_edge(Direction.RIGHT) for elem in ring_min_max_plus.nodes]}\")\n",
    "\n",
    "    # Now let's test out leader election in the ring\n",
    "    # MinMax\n",
    "    start_time = time.time()\n",
    "    leader_node_min_max, messages_min_max = \\\n",
    "        ring_min_max.leader_election()\n",
    "    end_time = time.time()\n",
    "    mins, secs, mils = running_time(start_time, end_time)\n",
    "\n",
    "    print(f\"\\n\\nWe have elected a leader for min-max: {leader_node_min_max}.\")\n",
    "    print(f'Running Time: {mins}m {secs}s. Only in milliseconds: {mils}ms.')\n",
    "    print(f'Theoretical message upper bound: {math.ceil(1.44 * size_of_ring * math.log(size_of_ring, 2))}.')\n",
    "    print(f\"It required a total of {messages_min_max} messages\\n\\n.\")\n",
    "\n",
    "\n",
    "    # MinMaxPlus\n",
    "    start_time = time.time()\n",
    "    leader_node_min_max_plus, messages_min_max_plus = \\\n",
    "        ring_min_max_plus.leader_election()\n",
    "    end_time = time.time()\n",
    "    mins, secs, mils = running_time(start_time, end_time)\n",
    "\n",
    "    print(f\"We have elected a leader for min-max-plus: {leader_node_min_max_plus}.\")\n",
    "    print(f'Running Time: {mins}m {secs}s. Only in milliseconds: {mils}ms.')\n",
    "    print(f'Theoretical message upper bound: {math.ceil(1.271 * size_of_ring * math.log(size_of_ring, 2))}.')\n",
    "    print(f\"It required a total of {messages_min_max_plus} messages.\")\n",
    "\n",
    "    # Time to visualize the graph\n",
    "    # ring_min_max.visualize(animation_speed=animation_speed)\n",
    "    # ring_min_max_plus.visualize(animation_speed=animation_speed)"
   ],
   "metadata": {
    "collapsed": false
   }
  },
  {
   "cell_type": "code",
   "execution_count": 13,
   "outputs": [
    {
     "name": "stdout",
     "output_type": "stream",
     "text": [
      "The edges (in direction Right) for the ring executing min-max are: [[1, 11], [11, 13], [13, 3], [3, 16], [16, 17], [17, 2], [2, 8], [8, 19], [19, 9], [9, 15], [15, 14], [14, 10], [10, 5], [5, 4], [4, 12], [12, 20], [20, 18], [18, 7], [7, 6], [6, 1]]\n",
      "The edges (in direction Right) for the ring executing min-max-plus are: [[1, 11], [11, 13], [13, 3], [3, 16], [16, 17], [17, 2], [2, 8], [8, 19], [19, 9], [9, 15], [15, 14], [14, 10], [10, 5], [5, 4], [4, 12], [12, 20], [20, 18], [18, 7], [7, 6], [6, 1]]\n",
      "\n",
      "\n",
      "We have elected a leader for min-max: 8.\n",
      "Running Time: 0m 0s. Only in milliseconds: 285ms.\n",
      "Theoretical message upper bound: 125.\n",
      "It required a total of 60 messages\n",
      "\n",
      ".\n",
      "We have elected a leader for min-max-plus: 2.\n",
      "Running Time: 0m 0s. Only in milliseconds: 372ms.\n",
      "Theoretical message upper bound: 110.\n",
      "It required a total of 84 messages.\n"
     ]
    }
   ],
   "source": [
    "# Run the program\n",
    "\n",
    "\n",
    "# number_of_originator defines how many originators there are in the algorithm.\n",
    "# This value cannot be greater than the size of the ring.\n",
    "\n",
    "# size_of_the_ring defines the size of the ring.\n",
    "\n",
    "# direction is either Direction.LEFT or Direction.RIGHT.\n",
    "\n",
    "# animation_speed is initially set at 500. This is the number of milliseconds per frame. Increase this value\n",
    "# to make the animation longer for each frame.\n",
    "\n",
    "run_experiments(number_of_originators=5, size_of_ring=20, direction=Direction.RIGHT, animation_speed=500)"
   ],
   "metadata": {
    "collapsed": false
   }
  }
 ],
 "metadata": {
  "kernelspec": {
   "display_name": "Python 3",
   "language": "python",
   "name": "python3"
  },
  "language_info": {
   "codemirror_mode": {
    "name": "ipython",
    "version": 2
   },
   "file_extension": ".py",
   "mimetype": "text/x-python",
   "name": "python",
   "nbconvert_exporter": "python",
   "pygments_lexer": "ipython2",
   "version": "2.7.6"
  }
 },
 "nbformat": 4,
 "nbformat_minor": 0
}
