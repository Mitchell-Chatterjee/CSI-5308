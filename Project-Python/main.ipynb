{
 "cells": [
  {
   "cell_type": "code",
   "execution_count": null,
   "metadata": {
    "collapsed": true
   },
   "outputs": [],
   "source": [
    "# Imports and installations\n",
    "!pip install igraph\n",
    "\n",
    "from Ring import Node, Direction, Ring\n",
    "from Algorithms import MinMax, MinMaxPlus\n",
    "import random"
   ]
  },
  {
   "cell_type": "code",
   "execution_count": null,
   "outputs": [],
   "source": [
    "# Defining the functions to run the program\n",
    "def generate_random_ring(size):\n",
    "    temp = [i for i in range(1, size + 1)]\n",
    "    random.shuffle(temp)\n",
    "    nodes = [Node(value, None, None) for value in temp]\n",
    "\n",
    "    return nodes\n",
    "\n",
    "\n",
    "def run_experiments(number_of_originators=2, size_of_ring=10, direction=Direction.RIGHT, animation_speed=500):\n",
    "    # Let's generate a couple nodes to start and make sure we can graph them properly\n",
    "    nodes_min_max = generate_random_ring(size_of_ring)\n",
    "    nodes_min_max_plus = generate_random_ring(size_of_ring)\n",
    "\n",
    "    # Get both algorithms\n",
    "    min_max = MinMax()\n",
    "    min_max_plus = MinMaxPlus()\n",
    "\n",
    "    # Now let's link up the nodes in a ring\n",
    "    ring_min_max = Ring(nodes_min_max, direction, min_max, number_of_originators)\n",
    "    ring_min_max_plus = Ring(nodes_min_max_plus, direction, min_max_plus, number_of_originators)\n",
    "\n",
    "    # Print all edges in order\n",
    "    print(f\"The edges (in direction {direction.value}) for the ring executing min-max are: \"\n",
    "          f\"{[elem.get_edge(Direction.RIGHT) for elem in ring_min_max.nodes]}\")\n",
    "    print(f\"The edges (in direction {direction.value}) for the ring executing min-max-plus are: \"\n",
    "          f\"{[elem.get_edge(Direction.RIGHT) for elem in ring_min_max_plus.nodes]}\")\n",
    "\n",
    "    # Now let's test out leader election in the ring\n",
    "    leader_node_min_max, messages_min_max = \\\n",
    "        ring_min_max.leader_election()\n",
    "    print(f\"We have elected a leader for min-max: {leader_node_min_max}\")\n",
    "    print(f\"It required a total of {messages_min_max} messages\\n\\n\")\n",
    "\n",
    "    leader_node_min_max_plus, messages_min_max_plus = \\\n",
    "        ring_min_max_plus.leader_election()\n",
    "    print(f\"We have elected a leader for min-max-plus: {leader_node_min_max_plus}\")\n",
    "    print(f\"It required a total of {messages_min_max_plus} messages\")\n",
    "\n",
    "    # Time to visualize the graph\n",
    "    ring_min_max.visualize(animation_speed=animation_speed)\n",
    "    ring_min_max_plus.visualize(animation_speed=animation_speed)"
   ],
   "metadata": {
    "collapsed": false
   }
  },
  {
   "cell_type": "code",
   "execution_count": null,
   "outputs": [],
   "source": [
    "# Run the program\n",
    "\n",
    "# direction is either Direction.LEFT or Direction.RIGHT\n",
    "# animation_speed is initially set at 500. This is the number of milliseconds per frame. Increase this value\n",
    "# to make the animation longer for each frame.\n",
    "run_experiments(number_of_originators=5, size_of_ring=10, direction=Direction.RIGHT, animation_speed=500)"
   ],
   "metadata": {
    "collapsed": false
   }
  }
 ],
 "metadata": {
  "kernelspec": {
   "display_name": "Python 3",
   "language": "python",
   "name": "python3"
  },
  "language_info": {
   "codemirror_mode": {
    "name": "ipython",
    "version": 2
   },
   "file_extension": ".py",
   "mimetype": "text/x-python",
   "name": "python",
   "nbconvert_exporter": "python",
   "pygments_lexer": "ipython2",
   "version": "2.7.6"
  }
 },
 "nbformat": 4,
 "nbformat_minor": 0
}
